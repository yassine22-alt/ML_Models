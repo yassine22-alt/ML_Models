{
 "cells": [
  {
   "cell_type": "code",
   "execution_count": 3,
   "id": "99250a11",
   "metadata": {},
   "outputs": [],
   "source": [
    "import numpy as np"
   ]
  },
  {
   "cell_type": "code",
   "execution_count": 89,
   "id": "dac3c58a",
   "metadata": {},
   "outputs": [],
   "source": [
    "def QR(A):\n",
    "    m = len(A)\n",
    "    n = len(A[0])\n",
    "    Q = np.zeros((m,n))\n",
    "    R = np.zeros((n,n))\n",
    "    \n",
    "    for k in range(n):\n",
    "        q = A[:,k]\n",
    "        for j in range(k):\n",
    "            R[j][k] = np.dot(Q[:,j], A[:,k])\n",
    "            q = q - np.dot(R[j][k],Q[:,j])\n",
    "        R[k][k] = np.linalg.norm(q)\n",
    "        q = q/R[k][k]\n",
    "        Q[:,k] = q\n",
    "    return Q, R\n",
    "        "
   ]
  },
  {
   "cell_type": "code",
   "execution_count": 90,
   "id": "9c0fac06",
   "metadata": {},
   "outputs": [
    {
     "data": {
      "text/plain": [
       "array([[ 2.,  2., -6., -3.,  2.,  7.],\n",
       "       [ 0.,  0.,  2.,  8.,  5., -3.],\n",
       "       [ 1.,  4.,  0., -3.,  2., -1.],\n",
       "       [ 5., -5.,  1.,  5.,  3., 10.],\n",
       "       [-6., -7., -1., -3.,  1.,  1.]])"
      ]
     },
     "execution_count": 90,
     "metadata": {},
     "output_type": "execute_result"
    }
   ],
   "source": [
    "A = np.round( 5*np.random.randn(5,6) )\n",
    "A"
   ]
  },
  {
   "cell_type": "code",
   "execution_count": 91,
   "id": "2afe1b83",
   "metadata": {},
   "outputs": [],
   "source": [
    "Q,R = QR(A)"
   ]
  },
  {
   "cell_type": "code",
   "execution_count": 92,
   "id": "ca7dde59",
   "metadata": {},
   "outputs": [
    {
     "name": "stdout",
     "output_type": "stream",
     "text": [
      "[[ 0.24618298  0.13513371 -0.91145125  0.28599797  0.09270705  0.09500143]\n",
      " [ 0.          0.          0.31276827  0.88481027  0.3453792  -0.45600684]\n",
      " [ 0.12309149  0.39386533  0.06682556 -0.35072868  0.837999   -0.22800342]\n",
      " [ 0.61545745 -0.7498273   0.04552211 -0.10052898  0.21631645  0.85501283]\n",
      " [-0.73854895 -0.51416729 -0.2547444  -0.04689627  0.35083255  0.        ]] [[ 8.12403840e+00  3.07728727e+00 -1.23091491e-01  4.18511069e+00\n",
      "   1.84637236e+00  7.01621499e+00]\n",
      " [ 0.00000000e+00  9.19403628e+00 -1.04646228e+00 -3.79363175e+00\n",
      "  -1.70565111e+00 -7.46036964e+00]\n",
      " [ 0.00000000e+00  0.00000000e+00  6.39451055e+00  6.02786698e+00\n",
      "  -2.43588122e-01 -7.18481245e+00]\n",
      " [ 0.00000000e+00  0.00000000e+00  0.00000000e+00  6.91071822e+00\n",
      "   3.94610676e+00 -1.35390236e+00]\n",
      " [ 0.00000000e+00  0.00000000e+00  0.00000000e+00  0.00000000e+00\n",
      "   4.58808998e+00  1.28880974e+00]\n",
      " [ 0.00000000e+00  0.00000000e+00  0.00000000e+00  0.00000000e+00\n",
      "   0.00000000e+00  2.92159571e-15]]\n"
     ]
    }
   ],
   "source": [
    "print(Q,R)"
   ]
  },
  {
   "cell_type": "code",
   "execution_count": 93,
   "id": "cebbd793",
   "metadata": {},
   "outputs": [],
   "source": [
    "T = Q@R"
   ]
  },
  {
   "cell_type": "code",
   "execution_count": 94,
   "id": "1df7deae",
   "metadata": {},
   "outputs": [
    {
     "name": "stdout",
     "output_type": "stream",
     "text": [
      "[[ 2.  2. -6. -3.  2.  7.]\n",
      " [ 0.  0.  2.  8.  5. -3.]\n",
      " [ 1.  4.  0. -3.  2. -1.]\n",
      " [ 5. -5.  1.  5.  3. 10.]\n",
      " [-6. -7. -1. -3.  1.  1.]]\n"
     ]
    }
   ],
   "source": [
    "print(T.round())"
   ]
  },
  {
   "cell_type": "code",
   "execution_count": 95,
   "id": "6d23f71d",
   "metadata": {},
   "outputs": [
    {
     "name": "stdout",
     "output_type": "stream",
     "text": [
      "[[ 0.85714286 -0.39428571 -0.33142857]\n",
      " [ 0.42857143  0.90285714  0.03428571]\n",
      " [-0.28571429  0.17142857 -0.94285714]] [[ 14.  21. -14.]\n",
      " [  0. 175. -70.]\n",
      " [  0.   0.  35.]]\n"
     ]
    }
   ],
   "source": [
    "D = np.array([[12,-51,4],[6,167,-68],[-4,24,-41]])\n",
    "Q,R=QR(D)\n",
    "print(Q,R)\n"
   ]
  },
  {
   "cell_type": "code",
   "execution_count": null,
   "id": "13b69bdd",
   "metadata": {},
   "outputs": [],
   "source": []
  },
  {
   "cell_type": "code",
   "execution_count": null,
   "id": "ba98c38f",
   "metadata": {},
   "outputs": [],
   "source": []
  }
 ],
 "metadata": {
  "kernelspec": {
   "display_name": "Python 3 (ipykernel)",
   "language": "python",
   "name": "python3"
  },
  "language_info": {
   "codemirror_mode": {
    "name": "ipython",
    "version": 3
   },
   "file_extension": ".py",
   "mimetype": "text/x-python",
   "name": "python",
   "nbconvert_exporter": "python",
   "pygments_lexer": "ipython3",
   "version": "3.11.5"
  }
 },
 "nbformat": 4,
 "nbformat_minor": 5
}
