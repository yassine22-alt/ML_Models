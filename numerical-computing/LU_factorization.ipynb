{
 "cells": [
  {
   "cell_type": "code",
   "execution_count": 204,
   "id": "fe7851be",
   "metadata": {},
   "outputs": [],
   "source": [
    "import numpy as np"
   ]
  },
  {
   "cell_type": "code",
   "execution_count": null,
   "id": "41e79970",
   "metadata": {},
   "outputs": [
    {
     "name": "stdout",
     "output_type": "stream",
     "text": [
      "[[ 2. -2. 12. -1.  1.]\n",
      " [ 8. -5. -3.  1. -2.]\n",
      " [-6. -1. -2.  3. -8.]\n",
      " [-4.  6.  9. -8.  3.]\n",
      " [-5. -4. -4. -2.  5.]]\n"
     ]
    }
   ],
   "source": [
    "# Generating a random matrix A\n",
    "n = 5\n",
    "np.random.seed(5)\n",
    "A = np.round( 5*np.random.randn(n,n) )\n",
    "\n",
    "print(A)"
   ]
  },
  {
   "cell_type": "code",
   "execution_count": 206,
   "id": "a0809a64",
   "metadata": {},
   "outputs": [
    {
     "data": {
      "text/plain": [
       "array([[  2.,  -0.,   0.,  -0.,   0.],\n",
       "       [  0.,  15.,  -0.,   0.,  -0.],\n",
       "       [ -0.,  -3.,  -2.,   0.,  -0.],\n",
       "       [ -0.,  12.,   0.,  -8.,   0.],\n",
       "       [ -0., -10.,  -0.,  -0.,   5.]])"
      ]
     },
     "execution_count": 206,
     "metadata": {},
     "output_type": "execute_result"
    }
   ],
   "source": [
    "M = np.eye(n)\n",
    "\n",
    "m1 = np.zeros(n)\n",
    "e1 = np.zeros(n)\n",
    "e1[1] = 1\n",
    "for i in range(n):\n",
    "    if i == 0:\n",
    "        m1[i] = 0\n",
    "    else:\n",
    "        m1[i] = A[i][0]/A[0][0]\n",
    "        \n",
    "        \n",
    "M = M - np.outer(m1,e1)\n",
    "\n",
    "M*A"
   ]
  },
  {
   "cell_type": "code",
   "execution_count": null,
   "id": "0247efb5",
   "metadata": {},
   "outputs": [],
   "source": [
    "# Regular LU factorization\n",
    "def LU_factor(A):\n",
    "    n = len(A)\n",
    "    L = np.eye(n)\n",
    "    M = np.eye(n)\n",
    "    U = A.copy()\n",
    "    for k in range(n-1):\n",
    "        M = np.eye(n)\n",
    "        M[k+1:,k] = -U[k+1:,k]/U[k,k]\n",
    "        L[k+1:,k] = U[k+1:,k]/U[k,k]\n",
    "        U = M@U\n",
    "    return L, U"
   ]
  },
  {
   "cell_type": "code",
   "execution_count": 208,
   "id": "b118e04d",
   "metadata": {},
   "outputs": [
    {
     "name": "stdout",
     "output_type": "stream",
     "text": [
      "[[ 2. -2. 12. -1.  1.]\n",
      " [ 8. -5. -3.  1. -2.]\n",
      " [-6. -1. -2.  3. -8.]\n",
      " [-4.  6.  9. -8.  3.]\n",
      " [-5. -4. -4. -2.  5.]]\n",
      "[[ 2. -2. 12. -1.  1.]\n",
      " [ 8. -5. -3.  1. -2.]\n",
      " [-6. -1. -2.  3. -8.]\n",
      " [-4.  6.  9. -8.  3.]\n",
      " [-5. -4. -4. -2.  5.]]\n"
     ]
    }
   ],
   "source": [
    "L, U = LU_factor(A)\n",
    "print(L@U)\n",
    "print(A)"
   ]
  },
  {
   "cell_type": "code",
   "execution_count": null,
   "id": "ef5af1fa",
   "metadata": {},
   "outputs": [],
   "source": [
    "# Partial pivot LU factorization\n",
    "def LU_factor_pp(A):\n",
    "    n = len(A)\n",
    "    L = np.zeros((n,n))\n",
    "    M = np.eye(n)\n",
    "    U = A.copy()\n",
    "    piv = np.zeros(n)\n",
    "    for i in range(n):\n",
    "        piv[i] = i\n",
    "    for k in range(n-1):\n",
    "        M = np.eye(n)\n",
    "        pivotIndex = k\n",
    "        maxSoFar = -1e6\n",
    "        for j in range(k,n):\n",
    "            if abs(U[j][k]) > maxSoFar:\n",
    "                maxSoFar = abs(U[j][k]) \n",
    "                pivotIndex = j\n",
    "        if pivotIndex != k:\n",
    "                U[[k,pivotIndex]] = U[[pivotIndex,k]]\n",
    "                L[[k,pivotIndex]] = L[[pivotIndex,k]]\n",
    "        piv[k] = pivotIndex\n",
    "        \n",
    "        M[k+1:,k] = -U[k+1:,k]/U[k,k]\n",
    "        L[k+1:,k] = U[k+1:,k]/U[k,k]\n",
    "        \n",
    "    \n",
    "        U = M@U\n",
    "\n",
    "    L += np.eye(n)\n",
    "    \n",
    "    return L, U, piv"
   ]
  },
  {
   "cell_type": "code",
   "execution_count": 329,
   "id": "1b26ed32",
   "metadata": {},
   "outputs": [
    {
     "name": "stdout",
     "output_type": "stream",
     "text": [
      "PA =  [[ 8. -5. -3.  1. -2.]\n",
      " [-5. -4. -4. -2.  5.]\n",
      " [ 2. -2. 12. -1.  1.]\n",
      " [-4.  6.  9. -8.  3.]\n",
      " [-6. -1. -2.  3. -8.]]\n",
      "A =  [[ 2. -2. 12. -1.  1.]\n",
      " [ 8. -5. -3.  1. -2.]\n",
      " [-6. -1. -2.  3. -8.]\n",
      " [-4.  6.  9. -8.  3.]\n",
      " [-5. -4. -4. -2.  5.]]\n",
      "piv =  [1. 4. 4. 3. 4.]\n"
     ]
    }
   ],
   "source": [
    "L, U, piv = LU_factor_pp(A)\n",
    "K,G = L, U\n",
    "LU = L@U\n",
    "print(\"PA = \",LU)\n",
    "n = len(A)\n",
    "P = np.eye(n)\n",
    "\n",
    "for i in range(n):\n",
    "    P[[i,int(piv[i])]] = P[[int(piv[i]),i]]\n",
    "\n",
    "print(\"A = \", P.T@LU)    \n",
    "print(\"piv = \", piv)"
   ]
  },
  {
   "cell_type": "code",
   "execution_count": 321,
   "id": "9a4baf1d",
   "metadata": {},
   "outputs": [
    {
     "name": "stdout",
     "output_type": "stream",
     "text": [
      "[[ 2. -2. 12. -1.  1.]\n",
      " [ 8. -5. -3.  1. -2.]\n",
      " [-6. -1. -2.  3. -8.]\n",
      " [-4.  6.  9. -8.  3.]\n",
      " [-5. -4. -4. -2.  5.]]\n"
     ]
    }
   ],
   "source": [
    "print(A)"
   ]
  },
  {
   "cell_type": "code",
   "execution_count": 322,
   "id": "faeb2166",
   "metadata": {},
   "outputs": [],
   "source": [
    "import scipy as sc"
   ]
  },
  {
   "cell_type": "code",
   "execution_count": 323,
   "id": "f0507eec",
   "metadata": {},
   "outputs": [
    {
     "name": "stdout",
     "output_type": "stream",
     "text": [
      "[[ 8.         -5.         -3.          1.         -2.        ]\n",
      " [-0.625      -7.125      -5.875      -1.375       3.75      ]\n",
      " [ 0.25        0.10526316 13.36842105 -1.10526316  1.10526316]\n",
      " [-0.5        -0.49122807  0.34514436 -7.79396325  3.46062992]\n",
      " [-0.75        0.66666667 -0.02493438 -0.59521805 -9.91261155]] [1 4 4 3 4]\n"
     ]
    }
   ],
   "source": [
    "lu, piv = sc.linalg.lu_factor(A)\n",
    "print(lu, piv)\n"
   ]
  }
 ],
 "metadata": {
  "kernelspec": {
   "display_name": "Python 3 (ipykernel)",
   "language": "python",
   "name": "python3"
  },
  "language_info": {
   "codemirror_mode": {
    "name": "ipython",
    "version": 3
   },
   "file_extension": ".py",
   "mimetype": "text/x-python",
   "name": "python",
   "nbconvert_exporter": "python",
   "pygments_lexer": "ipython3",
   "version": "3.11.5"
  }
 },
 "nbformat": 4,
 "nbformat_minor": 5
}
