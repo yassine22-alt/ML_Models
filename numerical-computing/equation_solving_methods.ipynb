{
 "cells": [
  {
   "cell_type": "code",
   "execution_count": 10,
   "id": "eb952fe8",
   "metadata": {},
   "outputs": [],
   "source": [
    "import math, time, matplotlib.pyplot as plt"
   ]
  },
  {
   "cell_type": "markdown",
   "id": "d39f4a36",
   "metadata": {},
   "source": [
    "# Exercice 1: Implement newthon method in solving equation f(x) = 0"
   ]
  },
  {
   "cell_type": "code",
   "execution_count": 11,
   "id": "0c99eec6",
   "metadata": {},
   "outputs": [],
   "source": [
    "def methode_newton(f,f_,x0,tol,max_iter):\n",
    "    newtonIter=[]\n",
    "    newton=[]\n",
    "    t = max_iter\n",
    "    while max_iter>0 and abs(f(x0)) > tol:\n",
    "        dx = -f(x0)/f_(x0)\n",
    "        x0 = x0 + dx\n",
    "        max_iter-=1\n",
    "        newton.append(f(x0))\n",
    "        newtonIter.append(t-max_iter)\n",
    "    return x0, newton, newtonIter"
   ]
  },
  {
   "cell_type": "markdown",
   "id": "b91f26c4",
   "metadata": {},
   "source": [
    "# Exercice 2:"
   ]
  },
  {
   "cell_type": "code",
   "execution_count": 12,
   "id": "0bb61a35",
   "metadata": {},
   "outputs": [],
   "source": [
    "def f(x):\n",
    "    return x**3-x+1\n",
    "def f_(x):\n",
    "    return 3*(x**2)-1\n",
    "def f__(x):\n",
    "    return 6*x"
   ]
  },
  {
   "cell_type": "code",
   "execution_count": 13,
   "id": "c4099cc9",
   "metadata": {},
   "outputs": [
    {
     "data": {
      "text/plain": [
       "(-1.3247179572453902, -2.7471358521324873e-12)"
      ]
     },
     "execution_count": 13,
     "metadata": {},
     "output_type": "execute_result"
    }
   ],
   "source": [
    "t,n,ni = methode_newton(f,f_,1,1e-8,1e6)\n",
    "t, f(t)"
   ]
  },
  {
   "cell_type": "code",
   "execution_count": 14,
   "id": "a85e9ddd",
   "metadata": {},
   "outputs": [
    {
     "data": {
      "text/plain": [
       "(-5.759586534823978, -2.8082519643035653e-09)"
      ]
     },
     "execution_count": 14,
     "metadata": {},
     "output_type": "execute_result"
    }
   ],
   "source": [
    "g = lambda x:math.sin(x) - 0.5\n",
    "g_ = lambda x:math.cos(x)\n",
    "g__ = lambda x: -math.sin(x)\n",
    "r,n,ni = methode_newton(g,g_,-5,1e-8,1e6)\n",
    "r, g(r)"
   ]
  },
  {
   "cell_type": "code",
   "execution_count": 15,
   "id": "09620fde",
   "metadata": {},
   "outputs": [
    {
     "data": {
      "text/plain": [
       "(0.6931471805600254, 1.603162047558726e-13)"
      ]
     },
     "execution_count": 15,
     "metadata": {},
     "output_type": "execute_result"
    }
   ],
   "source": [
    "h = lambda x:math.exp(x) - 2\n",
    "h_ = lambda x:math.exp(x)\n",
    "h__=lambda x:math.exp(x)\n",
    "n,m,ni = methode_newton(h,h_,1,1e-8,1e6)\n",
    "n, h(n)"
   ]
  },
  {
   "cell_type": "code",
   "execution_count": 16,
   "id": "b8a8f60f",
   "metadata": {},
   "outputs": [
    {
     "data": {
      "text/plain": [
       "(2.853463239825629, -5.651607182244334e-09)"
      ]
     },
     "execution_count": 16,
     "metadata": {},
     "output_type": "execute_result"
    }
   ],
   "source": [
    "w = lambda x:x**5-4*x**4+3*x**3+2*x**2-7*x+10\n",
    "w_ = lambda x:5*x**4-16*x**3+9*x**2-7\n",
    "w__ = lambda x:20*x**3-48*x**2+18*x\n",
    "m,n,ni = methode_newton(w,w_,4,1e-8,1e6)\n",
    "m, w(m)"
   ]
  },
  {
   "cell_type": "markdown",
   "id": "63744418",
   "metadata": {},
   "source": [
    "# Exercice 3: implement secant methon"
   ]
  },
  {
   "cell_type": "code",
   "execution_count": 17,
   "id": "5797ccdc",
   "metadata": {},
   "outputs": [],
   "source": [
    "def methode_secante(f,x0,x1,tol,max_iter):\n",
    "    secante =[]\n",
    "    secanteIter=[]\n",
    "    t = max_iter\n",
    "    while max_iter>0 and abs(f(x1)) > tol:\n",
    "        dx = -f(x1)*(x1-x0)/(f(x1)-f(x0))\n",
    "        x0=x1\n",
    "        x1=x1+dx\n",
    "        max_iter-=1\n",
    "        secante.append(f(x1))\n",
    "        secanteIter.append(t-max_iter)\n",
    "    return x1, secante, secanteIter"
   ]
  },
  {
   "cell_type": "code",
   "execution_count": 19,
   "id": "1c2b1b78",
   "metadata": {},
   "outputs": [
    {
     "data": {
      "text/plain": [
       "(-1.3247179572435093, 5.274225500784269e-12)"
      ]
     },
     "execution_count": 19,
     "metadata": {},
     "output_type": "execute_result"
    }
   ],
   "source": [
    "d ,d1,d2= methode_secante(f,1,2,1e-8,1e6)\n",
    "d, f(d)"
   ]
  },
  {
   "cell_type": "code",
   "execution_count": 26,
   "id": "7a3a3773",
   "metadata": {},
   "outputs": [
    {
     "data": {
      "text/plain": [
       "(280035.8095544627, 1.217348444271238e-10)"
      ]
     },
     "execution_count": 26,
     "metadata": {},
     "output_type": "execute_result"
    }
   ],
   "source": [
    "e,e1,e2 = methode_secante(g,1,2,1e-8,1e6)\n",
    "e, g(e)"
   ]
  },
  {
   "cell_type": "code",
   "execution_count": 27,
   "id": "747be146",
   "metadata": {},
   "outputs": [
    {
     "data": {
      "text/plain": [
       "(0.6931471806283026, 1.3671463960918118e-10)"
      ]
     },
     "execution_count": 27,
     "metadata": {},
     "output_type": "execute_result"
    }
   ],
   "source": [
    "r,r1,r2 = methode_secante(h,1,2,1e-8,1e6)\n",
    "r, h(r)"
   ]
  },
  {
   "cell_type": "code",
   "execution_count": 28,
   "id": "572d172d",
   "metadata": {},
   "outputs": [
    {
     "data": {
      "text/plain": [
       "(1.6456207266954914, 3.533351389251038e-10)"
      ]
     },
     "execution_count": 28,
     "metadata": {},
     "output_type": "execute_result"
    }
   ],
   "source": [
    "k,k1,k2 = methode_secante(w,1,2,1e-8,1e6)\n",
    "k, w(k)"
   ]
  },
  {
   "cell_type": "markdown",
   "id": "f68d9a47",
   "metadata": {},
   "source": [
    "  # Exercice 4: Implement dichotomy method"
   ]
  },
  {
   "cell_type": "code",
   "execution_count": 34,
   "id": "68ee9afd",
   "metadata": {},
   "outputs": [],
   "source": [
    "def dichotomie(f,a,b,tol,max_iter):\n",
    "    dicho=[]\n",
    "    dichoIter=[]\n",
    "    t = max_iter\n",
    "    while abs(b-a) > tol and max_iter > 0:\n",
    "        c = (a+b)/2\n",
    "        if f(a)*f(c) > 0:\n",
    "            a = c\n",
    "        else:\n",
    "            b = c\n",
    "        max_iter -= 1\n",
    "        dicho.append(f(b))\n",
    "        dichoIter.append(t-max_iter)\n",
    "    return (a+b)/2, dicho, dichoIter"
   ]
  },
  {
   "cell_type": "code",
   "execution_count": 35,
   "id": "81996fe4",
   "metadata": {},
   "outputs": [
    {
     "data": {
      "text/plain": [
       "(-1.3247181177139282, -6.843422721836134e-07)"
      ]
     },
     "execution_count": 35,
     "metadata": {},
     "output_type": "execute_result"
    }
   ],
   "source": [
    "o,d,di = dichotomie(f,-2,1,1e-6,1000)\n",
    "o, f(o)"
   ]
  },
  {
   "cell_type": "code",
   "execution_count": 36,
   "id": "f02c4df4",
   "metadata": {},
   "outputs": [
    {
     "data": {
      "text/plain": [
       "(0.5235987743362784, -1.0929417371130512e-09)"
      ]
     },
     "execution_count": 36,
     "metadata": {},
     "output_type": "execute_result"
    }
   ],
   "source": [
    "e,e1,e2 = dichotomie(g,0,1.5,1e-8,1e6)\n",
    "e, g(e)"
   ]
  },
  {
   "cell_type": "code",
   "execution_count": 37,
   "id": "7d11b7b3",
   "metadata": {},
   "outputs": [
    {
     "data": {
      "text/plain": [
       "(0.6931471796706319, -1.778626801396399e-09)"
      ]
     },
     "execution_count": 37,
     "metadata": {},
     "output_type": "execute_result"
    }
   ],
   "source": [
    "r,r1,r2 = dichotomie(h,0,3,1e-8,1e6)\n",
    "r, h(r)"
   ]
  },
  {
   "cell_type": "code",
   "execution_count": 38,
   "id": "75376137",
   "metadata": {},
   "outputs": [
    {
     "data": {
      "text/plain": [
       "(-1.31405882909894, 4.1339095702142004e-08)"
      ]
     },
     "execution_count": 38,
     "metadata": {},
     "output_type": "execute_result"
    }
   ],
   "source": [
    "k,k1,k2 = dichotomie(w,-3,1,1e-8,1e6)\n",
    "k, w(k)"
   ]
  },
  {
   "cell_type": "markdown",
   "id": "cc40fe3d",
   "metadata": {},
   "source": [
    "# Exercice 5: Compare convergence speed of these methods"
   ]
  },
  {
   "cell_type": "code",
   "execution_count": 51,
   "id": "4da8c789",
   "metadata": {},
   "outputs": [],
   "source": [
    "n,newton,newtonIter = methode_newton(w, w_, 1, 1e-8, 1000)\n",
    "s,secante,secanteIter = methode_secante(w, 1, 2, 1e-8, 1000)\n",
    "d,dicho, dichoIter = dichotomie(w, -2, 1, 1e-8, 1000)\n",
    "    "
   ]
  },
  {
   "cell_type": "code",
   "execution_count": 52,
   "id": "b4f251e6",
   "metadata": {},
   "outputs": [
    {
     "data": {
      "image/png": "[encoded data removed]",
      "text/plain": [
       "<Figure size 1000x600 with 1 Axes>"
      ]
     },
     "metadata": {},
     "output_type": "display_data"
    }
   ],
   "source": [
    "plt.figure(figsize=(10, 6))\n",
    "plt.plot(newtonIter, newton, label='Methode de Newton', color='b')\n",
    "plt.plot(secanteIter, secante, label='Methode de la secante', color='g')\n",
    "plt.plot(dichoIter, dicho, label='La dichotomie', color='r')\n",
    "plt.scatter(newtonIter[-1], newton[-1], color='b', zorder=5)\n",
    "plt.scatter(secanteIter[-1], secante[-1], color='g', zorder=5)  \n",
    "plt.scatter(dichoIter[-1], dicho[-1], color='r', zorder=5)\n",
    "plt.xlabel('Iterations')\n",
    "plt.ylabel('la valeur de f(x*)')\n",
    "plt.legend()\n",
    "plt.grid(True)\n",
    "plt.show()"
   ]
  },
  {
   "cell_type": "markdown",
   "id": "3e57fa68",
   "metadata": {},
   "source": [
    "# Exercice 6: Implement newton method without derivative"
   ]
  },
  {
   "cell_type": "code",
   "execution_count": null,
   "id": "36d2f6ee",
   "metadata": {},
   "outputs": [],
   "source": [
    "# f(x) + Dxf'(x) + Dx^2 * f''(x)/2\n",
    "def methode_newton2(f,f_,f__,x0,tol,max_iter):\n",
    "    newton2=[]\n",
    "    newton2Iter=[]\n",
    "    t = max_iter\n",
    "    while max_iter>0 and abs(f(x0))>tol:\n",
    "        \n",
    "        D = - f_(x0)**2 2*f(x0)*f__(x0)\n",
    "        if D < 0 or f__(x0)==0:\n",
    "            return methode_newton(f,f_,x0,tol,max_iter)\n",
    "        else:\n",
    "            Dx1 = (-f_(x0) - math.sqrt(D)) / f__(x0)\n",
    "            Dx2 = (-f_(x0) + math.sqrt(D)) / f__(x0)\n",
    "            x0 += Dx1 if f(x0 + Dx1) < f(x0 + Dx2) else Dx2\n",
    "            newton2.append(f(x0))\n",
    "            newton2Iter.append(t-max_iter)\n",
    "        \n",
    "        max_iter-=1\n",
    "        if abs(Dx1) < tol and abs(Dx2) < tol:\n",
    "            break\n",
    "    return x0, newton2, newton2Iter"
   ]
  },
  {
   "cell_type": "code",
   "execution_count": null,
   "id": "9c953624",
   "metadata": {},
   "outputs": [],
   "source": [
    "n1,newton,newtonIter= methode_newton(w,w_,-1,1e-8,1000)\n",
    "n2,newton2,newton2Iter = methode_newton2(w,w_,w__,-1,1e-8,1000)"
   ]
  },
  {
   "cell_type": "code",
   "execution_count": null,
   "id": "ae20bdd8",
   "metadata": {},
   "outputs": [],
   "source": [
    "plt.figure(figsize=(10, 6))\n",
    "plt.plot(newtonIter, newton, label='Methode de Newton', color='b')\n",
    "plt.plot(newton2Iter, newton2, label='Methode de Newton 2', color='y')\n",
    "plt.scatter(newton2Iter[-1], newton2[-1], color='y', zorder=5, label=\"number of iteration (Newton 2)\")  \n",
    "plt.scatter(newtonIter[-1], newton[-1], color='b', zorder=5, label=\"number of iteration (Newton)\")  \n",
    "plt.xlabel('Iterations')\n",
    "plt.ylabel('la valeur de f(x*)')\n",
    "plt.legend()\n",
    "plt.grid(True)\n",
    "plt.show()"
   ]
  },
  {
   "cell_type": "code",
   "execution_count": null,
   "id": "146442c5",
   "metadata": {},
   "outputs": [],
   "source": [
    "# On calcule a 1e-6 pres la racine de l'equation 9/10 * exp(-x) - x =0 en utilisant la methode de point fixe\n",
    "\n",
    "f = lambda x:9*math.exp(-x)/10\n",
    "e = 1e-6\n",
    "n = int(math.log2(e)/math.log2(0.9))+1\n",
    "x0 = 0\n",
    "for i in range(n):\n",
    "    x0 = f(x0)\n",
    "x0, f(x0) - x0"
   ]
  },
  {
   "cell_type": "code",
   "execution_count": null,
   "id": "3e50ea94",
   "metadata": {},
   "outputs": [],
   "source": [
    "g = lambda x:10*x-9*math.exp(-x)\n",
    "g_ = lambda x:10 + 9*math.exp(-x)\n",
    "r, l ,v = methode_newton(g,g_,0,1e-8,1000)\n",
    "r,l,v"
   ]
  },
  {
   "cell_type": "code",
   "execution_count": null,
   "id": "f2651d6d",
   "metadata": {},
   "outputs": [],
   "source": [
    "h = lambda x: math.cos(x) - x\n",
    "h_ = lambda x: -math.sin(x) - 1\n",
    "\n",
    "a, m, l =methode_newton(h,h_,2,1e-10,20)\n",
    "b, n, k =methode_secante(h,-2,2,1e-10,20)\n",
    "\n",
    "a, b, l, k"
   ]
  },
  {
   "cell_type": "code",
   "execution_count": 44,
   "id": "44d846cd",
   "metadata": {},
   "outputs": [
    {
     "data": {
      "text/plain": [
       "(2.0013822354478106, 8.526512829121202e-14)"
      ]
     },
     "execution_count": 44,
     "metadata": {},
     "output_type": "execute_result"
    }
   ],
   "source": [
    "t = lambda x:x**5-10*x**4+40*x**3-80*x**2+80*x-32\n",
    "r,r1,r2 = dichotomie(t,1.3,3.2,1e-15,10000)\n",
    "r, t(r)"
   ]
  },
  {
   "cell_type": "code",
   "execution_count": 47,
   "id": "f421a10b",
   "metadata": {},
   "outputs": [
    {
     "data": {
      "text/plain": [
       "(1.9999999999999998, -5.397605346934028e-79)"
      ]
     },
     "execution_count": 47,
     "metadata": {},
     "output_type": "execute_result"
    }
   ],
   "source": [
    "t = lambda x:(x-2)**5\n",
    "r,r1,r2 = dichotomie(t,1.3,3.2,1e-15,100)\n",
    "r, t(r)"
   ]
  }
 ],
 "metadata": {
  "kernelspec": {
   "display_name": "Python 3 (ipykernel)",
   "language": "python",
   "name": "python3"
  },
  "language_info": {
   "codemirror_mode": {
    "name": "ipython",
    "version": 3
   },
   "file_extension": ".py",
   "mimetype": "text/x-python",
   "name": "python",
   "nbconvert_exporter": "python",
   "pygments_lexer": "ipython3",
   "version": "3.11.5"
  }
 },
 "nbformat": 4,
 "nbformat_minor": 5
}
