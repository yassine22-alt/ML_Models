{
 "cells": [
  {
   "cell_type": "code",
   "execution_count": 4,
   "id": "5296dbec",
   "metadata": {},
   "outputs": [],
   "source": [
    "import math\n",
    "import numpy as np"
   ]
  },
  {
   "cell_type": "code",
   "execution_count": 5,
   "id": "cf32a724",
   "metadata": {},
   "outputs": [],
   "source": [
    "f = lambda x: x*x + 2*x"
   ]
  },
  {
   "cell_type": "code",
   "execution_count": 6,
   "id": "02df72c0",
   "metadata": {},
   "outputs": [],
   "source": [
    "def nombre_dor(f, a, b, tol, max_iter):\n",
    "    t = (math.sqrt(5) - 1)/2\n",
    "    \n",
    "    x2 = a + t*(b-a)\n",
    "    x1 = a + (1-t)*(b-a)\n",
    "    f1 = f(x1)\n",
    "    f2 = f(x2)\n",
    "        \n",
    "    while abs(b-a) > tol and max_iter > 0:\n",
    "        \n",
    "        if f(x1) > f(x2):\n",
    "            a = x1\n",
    "            x1 = x2\n",
    "            f1 = f2\n",
    "            x2 = a + t*(b-a)\n",
    "            f2 = f(x2)\n",
    "        else:\n",
    "            b = x2\n",
    "            x2 = x1\n",
    "            f2 = f1\n",
    "            x1 = a + (1-t)*(b-a)\n",
    "            f1 = f(x1)\n",
    "        \n",
    "        max_iter -= 1\n",
    "    return a\n",
    "        "
   ]
  },
  {
   "cell_type": "code",
   "execution_count": 7,
   "id": "c824a37c",
   "metadata": {},
   "outputs": [
    {
     "data": {
      "text/plain": [
       "-1.0000004476305433"
      ]
     },
     "execution_count": 7,
     "metadata": {},
     "output_type": "execute_result"
    }
   ],
   "source": [
    "nombre_dor(f,-3,5,1e-6,1000)"
   ]
  },
  {
   "cell_type": "code",
   "execution_count": 8,
   "id": "fe53569c",
   "metadata": {},
   "outputs": [],
   "source": [
    "f = lambda x:(math.exp(x) - x**3)"
   ]
  },
  {
   "cell_type": "code",
   "execution_count": 9,
   "id": "9e100332",
   "metadata": {},
   "outputs": [
    {
     "data": {
      "text/plain": [
       "3.733078551528972"
      ]
     },
     "execution_count": 9,
     "metadata": {},
     "output_type": "execute_result"
    }
   ],
   "source": [
    "nombre_dor(f,-3,5,1e-6,1000)"
   ]
  },
  {
   "cell_type": "code",
   "execution_count": 10,
   "id": "591f61d3",
   "metadata": {},
   "outputs": [],
   "source": [
    "g = lambda x:0.5*x[0]*x[0] +   2.5*x[1]*x[1] \n",
    "Dg = lambda x: np.array([2*x[0], 5*x[1]])"
   ]
  },
  {
   "cell_type": "code",
   "execution_count": 11,
   "id": "c6407e99",
   "metadata": {},
   "outputs": [],
   "source": [
    "def descent_gradient(f, Df, x0, tol, max_iter):\n",
    "    while abs(np.linalg.norm(Df(x0))) > tol and max_iter > 0:\n",
    "        \n",
    "        alpha = nombre_dor(lambda x:f(x0 - x*Df(x0)),-5,5,tol,max_iter)\n",
    "        x0 = x0 - alpha*Df(x0)\n",
    "        max_iter -= 1\n",
    "    return x0, f(x0)\n"
   ]
  },
  {
   "cell_type": "code",
   "execution_count": 12,
   "id": "b6ec8551",
   "metadata": {},
   "outputs": [
    {
     "data": {
      "text/plain": [
       "(array([ 1.74308754e-07, -2.78889072e-08]), 1.7136248769497737e-14)"
      ]
     },
     "execution_count": 12,
     "metadata": {},
     "output_type": "execute_result"
    }
   ],
   "source": [
    "descent_gradient(g,Dg, np.array([2,1]), 1e-6,1000)"
   ]
  },
  {
   "cell_type": "code",
   "execution_count": 13,
   "id": "7519d4f0",
   "metadata": {},
   "outputs": [],
   "source": [
    "#Ici on essaie de trouver le minimum sans calcul de gradient\n",
    "\n",
    "def descent_sans_gradient(f, x0, tol, max_iter):\n",
    "    while max_iter > 0:\n",
    "        y = x0\n",
    "        for i in range(len(x0)):\n",
    "            e = np.zeros(len(x0))\n",
    "            e[i] = 1\n",
    "            alpha = nombre_dor(lambda x:f(y+x*e), -5, 5,tol, max_iter)\n",
    "            y = y + alpha*e\n",
    "        x0 = y\n",
    "        max_iter -=1\n",
    "    return x0, f(x0)"
   ]
  },
  {
   "cell_type": "code",
   "execution_count": 14,
   "id": "c8970fe1",
   "metadata": {},
   "outputs": [
    {
     "data": {
      "text/plain": [
       "(array([-3.09016989, -4.27050983]), 50.36771041751792)"
      ]
     },
     "execution_count": 14,
     "metadata": {},
     "output_type": "execute_result"
    }
   ],
   "source": [
    "descent_sans_gradient(g, np.array([5,1]), 1e-6,1000)"
   ]
  },
  {
   "cell_type": "code",
   "execution_count": null,
   "id": "7f29ff2b",
   "metadata": {},
   "outputs": [],
   "source": []
  }
 ],
 "metadata": {
  "kernelspec": {
   "display_name": "Python 3 (ipykernel)",
   "language": "python",
   "name": "python3"
  },
  "language_info": {
   "codemirror_mode": {
    "name": "ipython",
    "version": 3
   },
   "file_extension": ".py",
   "mimetype": "text/x-python",
   "name": "python",
   "nbconvert_exporter": "python",
   "pygments_lexer": "ipython3",
   "version": "3.11.5"
  }
 },
 "nbformat": 4,
 "nbformat_minor": 5
}
