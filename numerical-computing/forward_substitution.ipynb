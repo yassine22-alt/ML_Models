{
 "cells": [
  {
   "cell_type": "markdown",
   "id": "b57d8ccf",
   "metadata": {},
   "source": [
    "# Implement forward substitution to solve lower triangular systems"
   ]
  },
  {
   "cell_type": "code",
   "execution_count": 9,
   "id": "e5641f4f",
   "metadata": {},
   "outputs": [],
   "source": [
    "def isMatrix(A):\n",
    "        if not (isinstance(A, list) and all(isinstance(row, list) for row in A)):\n",
    "            return 0\n",
    "        if not all(len(row) == len(A[0]) for row in A):\n",
    "            return 0\n",
    "        return 1"
   ]
  },
  {
   "cell_type": "code",
   "execution_count": 11,
   "id": "81428aaf",
   "metadata": {},
   "outputs": [],
   "source": [
    "def isTriangleInf(A):\n",
    "    if len(A)!=len(A[0]):\n",
    "        return 0\n",
    "    for i in range(1,len(A)):\n",
    "        for j in range(i+1,len(A)):\n",
    "            if A[i][j]!=0:\n",
    "                return 0\n",
    "    return 1"
   ]
  },
  {
   "cell_type": "code",
   "execution_count": 63,
   "id": "df5e0b12",
   "metadata": {},
   "outputs": [],
   "source": [
    "def forward_substitution(A,b):\n",
    "    x = []\n",
    "    n = len(A)\n",
    "    for i in range(n):\n",
    "        if A[i][i] == 0:\n",
    "            return \"Singular Matrix\"\n",
    "        else:\n",
    "            xi = b[i]\n",
    "            if i == 0:\n",
    "                x.append(xi/A[0][0])\n",
    "                continue\n",
    "            for j in range(i):\n",
    "                xi -= A[i][j]*x[j]\n",
    "            \n",
    "            x.append(xi/A[i][i])\n",
    "\n",
    "    return x"
   ]
  },
  {
   "cell_type": "code",
   "execution_count": 71,
   "id": "5c92f06b",
   "metadata": {},
   "outputs": [],
   "source": [
    "def main1(A,b):\n",
    "    if isMatrix(A):\n",
    "        if isTriangleInf(A) and len(b) == len(A) :\n",
    "            return forward_substitution(A,b)"
   ]
  },
  {
   "cell_type": "code",
   "execution_count": 72,
   "id": "6b3c2995",
   "metadata": {},
   "outputs": [],
   "source": [
    "A = [[2,0,0,0,0,0],[1,0.5,0,0,0,0],[0.1,2,4,0,0,0],[0,5,2,3,0,0],[2,6,0.6,0.2,0.8,0],[4,1,0,0.1,2,7]]\n",
    "b = [1,0,0,2,0,3]"
   ]
  },
  {
   "cell_type": "code",
   "execution_count": 73,
   "id": "230b960a",
   "metadata": {},
   "outputs": [
    {
     "data": {
      "text/plain": [
       "[0.5, -1.0, 0.4875, 2.0083333333333333, 5.382291666666666, -1.2807738095238095]"
      ]
     },
     "execution_count": 73,
     "metadata": {},
     "output_type": "execute_result"
    }
   ],
   "source": [
    "main1(A,b)"
   ]
  },
  {
   "cell_type": "code",
   "execution_count": 74,
   "id": "8bd69ee5",
   "metadata": {},
   "outputs": [],
   "source": [
    "#To check our solution we use numpy built-in function to solve linear systems:\n",
    "import numpy as np"
   ]
  },
  {
   "cell_type": "code",
   "execution_count": 75,
   "id": "fedff340",
   "metadata": {},
   "outputs": [
    {
     "data": {
      "text/plain": [
       "array([ 0.5       , -1.        ,  0.4875    ,  2.00833333,  5.38229167,\n",
       "       -1.28077381])"
      ]
     },
     "execution_count": 75,
     "metadata": {},
     "output_type": "execute_result"
    }
   ],
   "source": [
    "np.linalg.solve(np.array(A), np.array(b))"
   ]
  }
 ],
 "metadata": {
  "kernelspec": {
   "display_name": "Python 3 (ipykernel)",
   "language": "python",
   "name": "python3"
  },
  "language_info": {
   "codemirror_mode": {
    "name": "ipython",
    "version": 3
   },
   "file_extension": ".py",
   "mimetype": "text/x-python",
   "name": "python",
   "nbconvert_exporter": "python",
   "pygments_lexer": "ipython3",
   "version": "3.11.5"
  }
 },
 "nbformat": 4,
 "nbformat_minor": 5
}
